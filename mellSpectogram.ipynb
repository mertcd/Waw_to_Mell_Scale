{
  "nbformat": 4,
  "nbformat_minor": 0,
  "metadata": {
    "colab": {
      "name": "mellSpectogram.ipynb",
      "provenance": [],
      "mount_file_id": "1j8TSp_lXSLsJKQHrXlrpDYvtr14hybah",
      "authorship_tag": "ABX9TyMr4mgLame8wLyNR7+r0lsj",
      "include_colab_link": true
    },
    "kernelspec": {
      "name": "python3",
      "display_name": "Python 3"
    },
    "language_info": {
      "name": "python"
    }
  },
  "cells": [
    {
      "cell_type": "markdown",
      "metadata": {
        "id": "view-in-github",
        "colab_type": "text"
      },
      "source": [
        "<a href=\"https://colab.research.google.com/github/mertcd/Waw_to_Mell_Scale/blob/main/mellSpectogram.ipynb\" target=\"_parent\"><img src=\"https://colab.research.google.com/assets/colab-badge.svg\" alt=\"Open In Colab\"/></a>"
      ]
    },
    {
      "cell_type": "code",
      "source": [
        "\n",
        "\n",
        "\n",
        "! pip install kaggle\n",
        "! mkdir ~/.kaggle\n",
        "! cp kaggle.json ~/.kaggle/\n",
        "! chmod 600 ~/.kaggle/kaggle.json\n",
        "\n",
        "! kaggle datasets list\n",
        "\n",
        "\n"
      ],
      "metadata": {
        "id": "77H_ajsOYd02"
      },
      "execution_count": null,
      "outputs": []
    },
    {
      "cell_type": "code",
      "source": [
        "! kaggle datasets download chrisfilo/urbansound8k"
      ],
      "metadata": {
        "colab": {
          "base_uri": "https://localhost:8080/"
        },
        "id": "nqEiBPg0PDJJ",
        "outputId": "d085b398-885f-44a3-d8e8-5338d18a2f9c"
      },
      "execution_count": null,
      "outputs": [
        {
          "output_type": "stream",
          "name": "stdout",
          "text": [
            "Downloading urbansound8k.zip to /content\n",
            "100% 5.61G/5.61G [00:59<00:00, 82.0MB/s]\n",
            "100% 5.61G/5.61G [00:59<00:00, 101MB/s] \n"
          ]
        }
      ]
    },
    {
      "cell_type": "code",
      "source": [
        "! unzip urbansound8k.zip"
      ],
      "metadata": {
        "id": "kO5yy_7SP4TA"
      },
      "execution_count": null,
      "outputs": []
    },
    {
      "cell_type": "code",
      "execution_count": null,
      "metadata": {
        "id": "3w30sqtJsM0V"
      },
      "outputs": [],
      "source": [
        "\n",
        "\n",
        "\n",
        "\n",
        "import librosa\n",
        "import numpy as np\n",
        "import librosa.display\n",
        "import matplotlib.pyplot as plt\n",
        "from scipy.io import wavfile\n",
        "from IPython.display import Audio\n",
        "\n",
        "\n",
        "def wawToSpectogram(file,sr,outFilename):\n",
        " \n",
        "  samples, sample_rate = librosa.load(file, sr=21500)\n",
        "\n",
        "  plt.figure(figsize=(14, 5))\n",
        "  librosa.display.waveplot(samples, sr=sample_rate)\n",
        "\n",
        "  sgram = librosa.stft(samples)\n",
        "  \n",
        "  # Use the mel-scale instead of raw frequency\n",
        "  sgram_mag, _ = librosa.magphase(sgram)\n",
        "  mel_scale_sgram = librosa.feature.melspectrogram(S=sgram_mag, sr=sample_rate)\n",
        "  \n",
        "  mel_sgram = librosa.amplitude_to_db(mel_scale_sgram, ref=np.min)\n",
        "  librosa.display.specshow(mel_sgram, sr=sample_rate, x_axis='time', y_axis='mel')\n",
        "  plt.colorbar(format='%+2.0f dB')\n",
        "  plt.savefig(outFilename)\n",
        "  plt.close()\n",
        "  \n",
        "wawToSpectogram('dog_barking_2.wav', 21500, \"outFile.png\")"
      ]
    },
    {
      "cell_type": "markdown",
      "source": [
        "# Yeni Bölüm"
      ],
      "metadata": {
        "id": "HbYqTzEYcKWg"
      }
    },
    {
      "cell_type": "code",
      "source": [
        "import os\n",
        "arFold1 =os.listdir(\"fold1\")\n",
        "arFold2 =os.listdir(\"fold2\")\n",
        "arFold3 =os.listdir(\"fold3\")\n",
        "arFold4 =os.listdir(\"fold4\")\n",
        "arFold5 =os.listdir(\"fold5\")\n",
        "arFold6 =os.listdir(\"fold6\")\n",
        "arFold7 =os.listdir(\"fold7\")\n",
        "arFold8 =os.listdir(\"fold8\")\n",
        "arFold9 =os.listdir(\"fold9\")\n",
        "arFold10 =os.listdir(\"fold10\")\n",
        "\n",
        "dat = [arFold1, arFold2, arFold3, arFold4, arFold5, arFold6, arFold7, arFold9,arFold10]"
      ],
      "metadata": {
        "id": "5gDGPAyFWfFX"
      },
      "execution_count": null,
      "outputs": []
    },
    {
      "cell_type": "code",
      "source": [
        "\n",
        "for file in arFold9:\n",
        "    wawToSpectogram('fold9/'+ file, 21500, \"Sfold9/\"+file+ \".png\" )"
      ],
      "metadata": {
        "id": "5Ca-omXhoRAz"
      },
      "execution_count": null,
      "outputs": []
    },
    {
      "cell_type": "code",
      "source": [
        "from google.colab import files\n",
        "\n",
        "\n",
        "!zip -r sfold9.zip Sfold9\n",
        "files.download(\"sfold9.zip\")"
      ],
      "metadata": {
        "id": "gDDeuDAKt1ms"
      },
      "execution_count": null,
      "outputs": []
    },
    {
      "cell_type": "code",
      "source": [
        "os.makedirs(\"Sfold10\")\n",
        "for file in arFold10:\n",
        "    wawToSpectogram('fold10/'+ file, 21500, \"Sfold10/\"+file+ \".png\" )\n",
        "\n",
        "!zip -r sfold10.zip Sfold10\n",
        "files.download(\"sfold10.zip\")"
      ],
      "metadata": {
        "id": "yRwZgg3nIAPT"
      },
      "execution_count": null,
      "outputs": []
    }
  ]
}